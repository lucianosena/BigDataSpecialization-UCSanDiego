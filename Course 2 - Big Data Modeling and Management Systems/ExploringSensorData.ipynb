{
 "cells": [
  {
   "cell_type": "code",
   "execution_count": 1,
   "metadata": {},
   "outputs": [],
   "source": [
    "import pandas as pd\n",
    "import numpy as np\n",
    "import matplotlib.pyplot as plt\n",
    "import seaborn as sns"
   ]
  },
  {
   "cell_type": "code",
   "execution_count": 2,
   "metadata": {},
   "outputs": [],
   "source": [
    "f1 = open(\"wx-data.txt\", \"r\")"
   ]
  },
  {
   "cell_type": "code",
   "execution_count": 9,
   "metadata": {},
   "outputs": [
    {
     "name": "stdout",
     "output_type": "stream",
     "text": [
      "1419408018\t0R1,Dn=059D,Dm=064D,Dx=075D,Sn=8.9M,Sm=9.6M,Sx=10.3M\n",
      "1419408019\t0R1,Dn=059D,Dm=065D,Dx=075D,Sn=8.8M,Sm=9.5M,Sx=10.3M\n",
      "1419408020\t0R1,Dn=059D,Dm=065D,Dx=075D,Sn=8.8M,Sm=9.5M,Sx=10.3M\n",
      "1419408021\t0R1,Dn=059D,Dm=065D,Dx=075D,Sn=8.8M,Sm=9.6M,Sx=10.3M\n",
      "1419408022\t0R1,Dn=061D,Dm=066D,Dx=075D,Sn=8.8M,Sm=9.7M,Sx=10.3M\n"
     ]
    }
   ],
   "source": [
    "i = 0\n",
    "while i < 5:\n",
    "    print(f1.readline().replace('\\n', ''))\n",
    "    i = i + 1"
   ]
  },
  {
   "cell_type": "code",
   "execution_count": 10,
   "metadata": {},
   "outputs": [],
   "source": [
    "f2 = open(\"wxt-520-format.txt\", \"r\")"
   ]
  },
  {
   "cell_type": "code",
   "execution_count": 11,
   "metadata": {},
   "outputs": [
    {
     "name": "stdout",
     "output_type": "stream",
     "text": [
      "Sn      Wind speed minimum m/s, km/h, mph, knots #,M, K, S, N\n",
      "Sm      Wind speed average m/s, km/h, mph, knots #,M, K, S, N\n",
      "Sx      Wind speed maximum m/s, km/h, mph, knots #,M, K, S, N\n",
      "Dn      Wind direction minimum deg #, D\n",
      "Dm      Wind direction average deg #, D\n",
      "Dx      Wind direction maximum deg #, D\n",
      "Pa      Air pressure hPa, Pa, bar, mmHg, inHg #, H, P, B, M, I\n",
      "Ta      Air temperature °C, °F #, C, F\n",
      "Tp      Internal temperature °C, °F #, C, F\n",
      "Ua      Relative humidity %RH #, P\n",
      "Rc      Rain accumulation mm, in #, M, I\n",
      "Rd      Rain duration s #, S\n",
      "Ri      Rain intensity mm/h, in/h #, M, I\n",
      "Rp      Rain peak intensity mm/h, in/h #, M, I\n",
      "Hc      Hail accumulation hits/cm2, hits/in2, hits #, M, I, H\n",
      "Hd      Hail duration s #, S\n",
      "Hi      Hail intensity hits/cm2h, hits/in2h, hits/ h #, M, I, H\n",
      "Hp      Hail peak intensity hits/cm2h, hits/in2h, hits/ h #, M, I, H\n",
      "Th      Heating temperature °C, °F #, C, F\n",
      "Vh      Heating voltage V #, N, V, W, F2\n",
      "Vs      Supply voltage V V\n",
      "Vr      3.5 V ref. voltage V V\n",
      "\n"
     ]
    }
   ],
   "source": [
    "print(f2.read())"
   ]
  },
  {
   "cell_type": "code",
   "execution_count": 19,
   "metadata": {},
   "outputs": [],
   "source": [
    "df = pd.read_csv('wx-data.txt', sep=\"\\t\", header=None)\n",
    "df.columns = [\"time\", \"txt_temperature\"]"
   ]
  },
  {
   "cell_type": "code",
   "execution_count": 20,
   "metadata": {},
   "outputs": [
    {
     "data": {
      "text/html": [
       "<div>\n",
       "<style scoped>\n",
       "    .dataframe tbody tr th:only-of-type {\n",
       "        vertical-align: middle;\n",
       "    }\n",
       "\n",
       "    .dataframe tbody tr th {\n",
       "        vertical-align: top;\n",
       "    }\n",
       "\n",
       "    .dataframe thead th {\n",
       "        text-align: right;\n",
       "    }\n",
       "</style>\n",
       "<table border=\"1\" class=\"dataframe\">\n",
       "  <thead>\n",
       "    <tr style=\"text-align: right;\">\n",
       "      <th></th>\n",
       "      <th>time</th>\n",
       "      <th>txt_temperature</th>\n",
       "    </tr>\n",
       "  </thead>\n",
       "  <tbody>\n",
       "    <tr>\n",
       "      <th>0</th>\n",
       "      <td>1419408000</td>\n",
       "      <td>0R1,Dn=038D,Dm=079D,Dx=120D,Sn=2.8M,Sm=6.0M,Sx...</td>\n",
       "    </tr>\n",
       "    <tr>\n",
       "      <th>1</th>\n",
       "      <td>1419408001</td>\n",
       "      <td>0R1,Dn=038D,Dm=074D,Dx=120D,Sn=2.8M,Sm=6.2M,Sx...</td>\n",
       "    </tr>\n",
       "    <tr>\n",
       "      <th>2</th>\n",
       "      <td>1419408002</td>\n",
       "      <td>0R1,Dn=038D,Dm=071D,Dx=120D,Sn=2.8M,Sm=6.5M,Sx...</td>\n",
       "    </tr>\n",
       "    <tr>\n",
       "      <th>3</th>\n",
       "      <td>1419408003</td>\n",
       "      <td>0R1,Dn=038D,Dm=067D,Dx=120D,Sn=2.8M,Sm=6.8M,Sx...</td>\n",
       "    </tr>\n",
       "    <tr>\n",
       "      <th>4</th>\n",
       "      <td>1419408004</td>\n",
       "      <td>0R1,Dn=038D,Dm=062D,Dx=081D,Sn=2.8M,Sm=7.2M,Sx...</td>\n",
       "    </tr>\n",
       "  </tbody>\n",
       "</table>\n",
       "</div>"
      ],
      "text/plain": [
       "         time                                    txt_temperature\n",
       "0  1419408000  0R1,Dn=038D,Dm=079D,Dx=120D,Sn=2.8M,Sm=6.0M,Sx...\n",
       "1  1419408001  0R1,Dn=038D,Dm=074D,Dx=120D,Sn=2.8M,Sm=6.2M,Sx...\n",
       "2  1419408002  0R1,Dn=038D,Dm=071D,Dx=120D,Sn=2.8M,Sm=6.5M,Sx...\n",
       "3  1419408003  0R1,Dn=038D,Dm=067D,Dx=120D,Sn=2.8M,Sm=6.8M,Sx...\n",
       "4  1419408004  0R1,Dn=038D,Dm=062D,Dx=081D,Sn=2.8M,Sm=7.2M,Sx..."
      ]
     },
     "execution_count": 20,
     "metadata": {},
     "output_type": "execute_result"
    }
   ],
   "source": [
    "df.head()"
   ]
  },
  {
   "cell_type": "code",
   "execution_count": 21,
   "metadata": {},
   "outputs": [],
   "source": [
    "def getTmp(a, tmp = 'Ta', rlc = 'C'):\n",
    "    x = list(filter(lambda k: tmp in k, a.split(',')))\n",
    "    if len(x) == 1:\n",
    "        return x[0][3:].replace(rlc, '')"
   ]
  },
  {
   "cell_type": "markdown",
   "metadata": {},
   "source": [
    "### Create Ta Dataframe"
   ]
  },
  {
   "cell_type": "code",
   "execution_count": 22,
   "metadata": {},
   "outputs": [],
   "source": [
    "dfTa = df.copy()"
   ]
  },
  {
   "cell_type": "code",
   "execution_count": 23,
   "metadata": {},
   "outputs": [],
   "source": [
    "dfTa['temperature'] = dfTa.apply(lambda x: getTmp(x['txt_temperature']), axis=1)"
   ]
  },
  {
   "cell_type": "code",
   "execution_count": 27,
   "metadata": {},
   "outputs": [],
   "source": [
    "dfTa.dropna(inplace=True)"
   ]
  },
  {
   "cell_type": "code",
   "execution_count": 28,
   "metadata": {},
   "outputs": [
    {
     "data": {
      "text/html": [
       "<div>\n",
       "<style scoped>\n",
       "    .dataframe tbody tr th:only-of-type {\n",
       "        vertical-align: middle;\n",
       "    }\n",
       "\n",
       "    .dataframe tbody tr th {\n",
       "        vertical-align: top;\n",
       "    }\n",
       "\n",
       "    .dataframe thead th {\n",
       "        text-align: right;\n",
       "    }\n",
       "</style>\n",
       "<table border=\"1\" class=\"dataframe\">\n",
       "  <thead>\n",
       "    <tr style=\"text-align: right;\">\n",
       "      <th></th>\n",
       "      <th>time</th>\n",
       "      <th>txt_temperature</th>\n",
       "      <th>temperature</th>\n",
       "    </tr>\n",
       "  </thead>\n",
       "  <tbody>\n",
       "    <tr>\n",
       "      <th>7</th>\n",
       "      <td>1419408006</td>\n",
       "      <td>0R2,Ta=13.9C,Ua=28.5P,Pa=889.9H</td>\n",
       "      <td>13.9</td>\n",
       "    </tr>\n",
       "    <tr>\n",
       "      <th>18</th>\n",
       "      <td>1419408016</td>\n",
       "      <td>0R2,Ta=13.9C,Ua=28.5P,Pa=889.9H</td>\n",
       "      <td>13.9</td>\n",
       "    </tr>\n",
       "    <tr>\n",
       "      <th>27</th>\n",
       "      <td>1419408024</td>\n",
       "      <td>0R0,Dn=057D,Dm=064D,Dx=069D,Sn=8.8M,Sm=9.6M,Sx...</td>\n",
       "      <td>13.9</td>\n",
       "    </tr>\n",
       "    <tr>\n",
       "      <th>31</th>\n",
       "      <td>1419408026</td>\n",
       "      <td>0R2,Ta=13.9C,Ua=28.4P,Pa=889.9H</td>\n",
       "      <td>13.9</td>\n",
       "    </tr>\n",
       "    <tr>\n",
       "      <th>42</th>\n",
       "      <td>1419408036</td>\n",
       "      <td>0R2,Ta=13.9C,Ua=28.3P,Pa=889.7H</td>\n",
       "      <td>13.9</td>\n",
       "    </tr>\n",
       "  </tbody>\n",
       "</table>\n",
       "</div>"
      ],
      "text/plain": [
       "          time                                    txt_temperature temperature\n",
       "7   1419408006                    0R2,Ta=13.9C,Ua=28.5P,Pa=889.9H        13.9\n",
       "18  1419408016                    0R2,Ta=13.9C,Ua=28.5P,Pa=889.9H        13.9\n",
       "27  1419408024  0R0,Dn=057D,Dm=064D,Dx=069D,Sn=8.8M,Sm=9.6M,Sx...        13.9\n",
       "31  1419408026                    0R2,Ta=13.9C,Ua=28.4P,Pa=889.9H        13.9\n",
       "42  1419408036                    0R2,Ta=13.9C,Ua=28.3P,Pa=889.7H        13.9"
      ]
     },
     "execution_count": 28,
     "metadata": {},
     "output_type": "execute_result"
    }
   ],
   "source": [
    "dfTa.head()"
   ]
  },
  {
   "cell_type": "code",
   "execution_count": 29,
   "metadata": {},
   "outputs": [],
   "source": [
    "dfTa['temperature'] = dfTa['temperature'].astype('float')"
   ]
  },
  {
   "cell_type": "code",
   "execution_count": 31,
   "metadata": {},
   "outputs": [
    {
     "name": "stdout",
     "output_type": "stream",
     "text": [
      "<class 'pandas.core.frame.DataFrame'>\n",
      "Int64Index: 10080 entries, 7 to 97917\n",
      "Data columns (total 3 columns):\n",
      "time               10080 non-null int64\n",
      "txt_temperature    10080 non-null object\n",
      "temperature        10080 non-null float64\n",
      "dtypes: float64(1), int64(1), object(1)\n",
      "memory usage: 315.0+ KB\n"
     ]
    }
   ],
   "source": [
    "dfTa.info()"
   ]
  },
  {
   "cell_type": "code",
   "execution_count": 32,
   "metadata": {},
   "outputs": [
    {
     "data": {
      "text/plain": [
       "<matplotlib.axes._subplots.AxesSubplot at 0x7fd74437f390>"
      ]
     },
     "execution_count": 32,
     "metadata": {},
     "output_type": "execute_result"
    },
    {
     "data": {
      "image/png": "[encoded data removed]",
      "text/plain": [
       "<Figure size 432x288 with 1 Axes>"
      ]
     },
     "metadata": {},
     "output_type": "display_data"
    }
   ],
   "source": [
    "sns.lineplot(x=\"time\", y=\"temperature\",\n",
    "             data=dfTa)"
   ]
  },
  {
   "cell_type": "markdown",
   "metadata": {},
   "source": [
    "### Create Dn Dataframe"
   ]
  },
  {
   "cell_type": "code",
   "execution_count": 35,
   "metadata": {},
   "outputs": [],
   "source": [
    "dfDn = df.copy()"
   ]
  },
  {
   "cell_type": "code",
   "execution_count": 36,
   "metadata": {},
   "outputs": [],
   "source": [
    "dfDn['temperature'] = dfTa.apply(lambda x: getTmp(x['txt_temperature'], tmp='Dn', rlc='D'), axis=1)"
   ]
  },
  {
   "cell_type": "code",
   "execution_count": 37,
   "metadata": {},
   "outputs": [],
   "source": [
    "dfDn.dropna(inplace=True)"
   ]
  },
  {
   "cell_type": "code",
   "execution_count": 38,
   "metadata": {},
   "outputs": [
    {
     "data": {
      "text/html": [
       "<div>\n",
       "<style scoped>\n",
       "    .dataframe tbody tr th:only-of-type {\n",
       "        vertical-align: middle;\n",
       "    }\n",
       "\n",
       "    .dataframe tbody tr th {\n",
       "        vertical-align: top;\n",
       "    }\n",
       "\n",
       "    .dataframe thead th {\n",
       "        text-align: right;\n",
       "    }\n",
       "</style>\n",
       "<table border=\"1\" class=\"dataframe\">\n",
       "  <thead>\n",
       "    <tr style=\"text-align: right;\">\n",
       "      <th></th>\n",
       "      <th>time</th>\n",
       "      <th>txt_temperature</th>\n",
       "      <th>temperature</th>\n",
       "    </tr>\n",
       "  </thead>\n",
       "  <tbody>\n",
       "    <tr>\n",
       "      <th>27</th>\n",
       "      <td>1419408024</td>\n",
       "      <td>0R0,Dn=057D,Dm=064D,Dx=069D,Sn=8.8M,Sm=9.6M,Sx...</td>\n",
       "      <td>057</td>\n",
       "    </tr>\n",
       "    <tr>\n",
       "      <th>95</th>\n",
       "      <td>1419408084</td>\n",
       "      <td>0R0,Dn=056D,Dm=062D,Dx=066D,Sn=8.4M,Sm=8.8M,Sx...</td>\n",
       "      <td>056</td>\n",
       "    </tr>\n",
       "    <tr>\n",
       "      <th>163</th>\n",
       "      <td>1419408144</td>\n",
       "      <td>0R0,Dn=058D,Dm=060D,Dx=065D,Sn=8.4M,Sm=9.1M,Sx...</td>\n",
       "      <td>058</td>\n",
       "    </tr>\n",
       "    <tr>\n",
       "      <th>231</th>\n",
       "      <td>1419408204</td>\n",
       "      <td>0R0,Dn=060D,Dm=064D,Dx=068D,Sn=7.4M,Sm=8.5M,Sx...</td>\n",
       "      <td>060</td>\n",
       "    </tr>\n",
       "    <tr>\n",
       "      <th>299</th>\n",
       "      <td>1419408264</td>\n",
       "      <td>0R0,Dn=056D,Dm=057D,Dx=060D,Sn=7.5M,Sm=8.1M,Sx...</td>\n",
       "      <td>056</td>\n",
       "    </tr>\n",
       "  </tbody>\n",
       "</table>\n",
       "</div>"
      ],
      "text/plain": [
       "           time                                    txt_temperature temperature\n",
       "27   1419408024  0R0,Dn=057D,Dm=064D,Dx=069D,Sn=8.8M,Sm=9.6M,Sx...         057\n",
       "95   1419408084  0R0,Dn=056D,Dm=062D,Dx=066D,Sn=8.4M,Sm=8.8M,Sx...         056\n",
       "163  1419408144  0R0,Dn=058D,Dm=060D,Dx=065D,Sn=8.4M,Sm=9.1M,Sx...         058\n",
       "231  1419408204  0R0,Dn=060D,Dm=064D,Dx=068D,Sn=7.4M,Sm=8.5M,Sx...         060\n",
       "299  1419408264  0R0,Dn=056D,Dm=057D,Dx=060D,Sn=7.5M,Sm=8.1M,Sx...         056"
      ]
     },
     "execution_count": 38,
     "metadata": {},
     "output_type": "execute_result"
    }
   ],
   "source": [
    "dfDn.head()"
   ]
  },
  {
   "cell_type": "code",
   "execution_count": 40,
   "metadata": {},
   "outputs": [],
   "source": [
    "dfDn['temperature'] = dfDn['temperature'].astype('float')"
   ]
  },
  {
   "cell_type": "code",
   "execution_count": 42,
   "metadata": {},
   "outputs": [
    {
     "name": "stdout",
     "output_type": "stream",
     "text": [
      "<class 'pandas.core.frame.DataFrame'>\n",
      "Int64Index: 1440 entries, 27 to 97880\n",
      "Data columns (total 3 columns):\n",
      "time               1440 non-null int64\n",
      "txt_temperature    1440 non-null object\n",
      "temperature        1440 non-null float64\n",
      "dtypes: float64(1), int64(1), object(1)\n",
      "memory usage: 45.0+ KB\n"
     ]
    }
   ],
   "source": [
    "dfDn.info()"
   ]
  },
  {
   "cell_type": "code",
   "execution_count": 43,
   "metadata": {},
   "outputs": [
    {
     "data": {
      "text/plain": [
       "<matplotlib.axes._subplots.AxesSubplot at 0x7fd744aa6080>"
      ]
     },
     "execution_count": 43,
     "metadata": {},
     "output_type": "execute_result"
    },
    {
     "data": {
      "image/png": "[encoded data removed]",
      "text/plain": [
       "<Figure size 432x288 with 1 Axes>"
      ]
     },
     "metadata": {},
     "output_type": "display_data"
    }
   ],
   "source": [
    "sns.lineplot(x=\"time\", y=\"temperature\",\n",
    "             data=dfDn)"
   ]
  },
  {
   "cell_type": "code",
   "execution_count": null,
   "metadata": {},
   "outputs": [],
   "source": []
  }
 ],
 "metadata": {
  "kernelspec": {
   "display_name": "Python 3",
   "language": "python",
   "name": "python3"
  },
  "language_info": {
   "codemirror_mode": {
    "name": "ipython",
    "version": 3
   },
   "file_extension": ".py",
   "mimetype": "text/x-python",
   "name": "python",
   "nbconvert_exporter": "python",
   "pygments_lexer": "ipython3",
   "version": "3.6.5"
  }
 },
 "nbformat": 4,
 "nbformat_minor": 2
}
