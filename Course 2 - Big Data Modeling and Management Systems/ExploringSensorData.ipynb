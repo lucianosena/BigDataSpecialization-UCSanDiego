{
 "cells": [
  {
   "cell_type": "code",
   "execution_count": 24,
   "metadata": {},
   "outputs": [],
   "source": [
    "f1 = open(\"wx-data.txt\", \"r\")"
   ]
  },
  {
   "cell_type": "code",
   "execution_count": 25,
   "metadata": {},
   "outputs": [
    {
     "name": "stdout",
     "output_type": "stream",
     "text": [
      "1419408001\t0R1,Dn=038D,Dm=074D,Dx=120D,Sn=2.8M,Sm=6.2M,Sx=8.8M\n",
      "\n",
      "1419408003\t0R1,Dn=038D,Dm=067D,Dx=120D,Sn=2.8M,Sm=6.8M,Sx=9.5M\n",
      "\n",
      "1419408005\t0R1,Dn=038D,Dm=060D,Dx=073D,Sn=2.8M,Sm=7.8M,Sx=10.0M\n",
      "\n",
      "1419408006\t0R2,Ta=13.9C,Ua=28.5P,Pa=889.9H\n",
      "\n",
      "1419408008\t0R1,Dn=056D,Dm=067D,Dx=080D,Sn=7.1M,Sm=8.9M,Sx=10.0M\n",
      "\n"
     ]
    }
   ],
   "source": [
    "i = 0\n",
    "while i < 5:\n",
    "    if f1.readline() != '':\n",
    "        print(f1.readline())\n",
    "        i = i + 1"
   ]
  },
  {
   "cell_type": "code",
   "execution_count": 33,
   "metadata": {},
   "outputs": [],
   "source": [
    "f2 = open(\"wxt-520-format.txt\", \"r\")"
   ]
  },
  {
   "cell_type": "code",
   "execution_count": 35,
   "metadata": {},
   "outputs": [
    {
     "name": "stdout",
     "output_type": "stream",
     "text": [
      "Tp      Internal temperature °C, °F #, C, F\n",
      "Ua      Relative humidity %RH #, P\n",
      "Rc      Rain accumulation mm, in #, M, I\n",
      "Rd      Rain duration s #, S\n",
      "Ri      Rain intensity mm/h, in/h #, M, I\n",
      "Rp      Rain peak intensity mm/h, in/h #, M, I\n",
      "Hc      Hail accumulation hits/cm2, hits/in2, hits #, M, I, H\n",
      "Hd      Hail duration s #, S\n",
      "Hi      Hail intensity hits/cm2h, hits/in2h, hits/ h #, M, I, H\n",
      "Hp      Hail peak intensity hits/cm2h, hits/in2h, hits/ h #, M, I, H\n",
      "Th      Heating temperature °C, °F #, C, F\n",
      "Vh      Heating voltage V #, N, V, W, F2\n",
      "Vs      Supply voltage V V\n",
      "Vr      3.5 V ref. voltage V V\n",
      "\n"
     ]
    }
   ],
   "source": [
    "print(f2.read())"
   ]
  },
  {
   "cell_type": "code",
   "execution_count": 36,
   "metadata": {},
   "outputs": [
    {
     "name": "stdout",
     "output_type": "stream",
     "text": [
      "End!\n"
     ]
    }
   ],
   "source": [
    "print('End!')"
   ]
  },
  {
   "cell_type": "code",
   "execution_count": null,
   "metadata": {},
   "outputs": [],
   "source": []
  }
 ],
 "metadata": {
  "kernelspec": {
   "display_name": "Python 3",
   "language": "python",
   "name": "python3"
  },
  "language_info": {
   "codemirror_mode": {
    "name": "ipython",
    "version": 3
   },
   "file_extension": ".py",
   "mimetype": "text/x-python",
   "name": "python",
   "nbconvert_exporter": "python",
   "pygments_lexer": "ipython3",
   "version": "3.6.5"
  }
 },
 "nbformat": 4,
 "nbformat_minor": 2
}
