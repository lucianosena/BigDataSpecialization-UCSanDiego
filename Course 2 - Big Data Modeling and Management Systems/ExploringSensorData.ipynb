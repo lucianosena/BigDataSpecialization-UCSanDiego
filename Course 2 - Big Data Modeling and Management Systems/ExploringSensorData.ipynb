{
 "cells": [
  {
   "cell_type": "code",
   "execution_count": 24,
   "metadata": {},
   "outputs": [],
   "source": [
    "f1 = open(\"wx-data.txt\", \"r\")"
   ]
  },
  {
   "cell_type": "code",
   "execution_count": 25,
   "metadata": {},
   "outputs": [
    {
     "name": "stdout",
     "output_type": "stream",
     "text": [
      "1419408001\t0R1,Dn=038D,Dm=074D,Dx=120D,Sn=2.8M,Sm=6.2M,Sx=8.8M\n",
      "\n",
      "1419408003\t0R1,Dn=038D,Dm=067D,Dx=120D,Sn=2.8M,Sm=6.8M,Sx=9.5M\n",
      "\n",
      "1419408005\t0R1,Dn=038D,Dm=060D,Dx=073D,Sn=2.8M,Sm=7.8M,Sx=10.0M\n",
      "\n",
      "1419408006\t0R2,Ta=13.9C,Ua=28.5P,Pa=889.9H\n",
      "\n",
      "1419408008\t0R1,Dn=056D,Dm=067D,Dx=080D,Sn=7.1M,Sm=8.9M,Sx=10.0M\n",
      "\n"
     ]
    }
   ],
   "source": [
    "i = 0\n",
    "while i < 5:\n",
    "    if f1.readline() != '':\n",
    "        print(f1.readline())\n",
    "        i = i + 1"
   ]
  },
  {
   "cell_type": "code",
   "execution_count": 26,
   "metadata": {},
   "outputs": [],
   "source": [
    "f2 = open(\"wxt-520-format.txt\", \"r\")"
   ]
  },
  {
   "cell_type": "code",
   "execution_count": null,
   "metadata": {},
   "outputs": [],
   "source": [
    "i = 0\n",
    "while i < 4:\n",
    "    if f2.readline() != '':\n",
    "        print(f2.read())\n",
    "        i = i + 1"
   ]
  },
  {
   "cell_type": "code",
   "execution_count": null,
   "metadata": {},
   "outputs": [],
   "source": []
  }
 ],
 "metadata": {
  "kernelspec": {
   "display_name": "Python 3",
   "language": "python",
   "name": "python3"
  },
  "language_info": {
   "codemirror_mode": {
    "name": "ipython",
    "version": 3
   },
   "file_extension": ".py",
   "mimetype": "text/x-python",
   "name": "python",
   "nbconvert_exporter": "python",
   "pygments_lexer": "ipython3",
   "version": "3.6.5"
  }
 },
 "nbformat": 4,
 "nbformat_minor": 2
}
