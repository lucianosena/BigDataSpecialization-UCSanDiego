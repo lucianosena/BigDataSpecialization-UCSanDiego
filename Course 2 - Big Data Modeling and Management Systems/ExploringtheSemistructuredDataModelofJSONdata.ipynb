{
 "cells": [
  {
   "cell_type": "code",
   "execution_count": 52,
   "metadata": {},
   "outputs": [],
   "source": [
    "import json"
   ]
  },
  {
   "cell_type": "code",
   "execution_count": 53,
   "metadata": {},
   "outputs": [
    {
     "name": "stderr",
     "output_type": "stream",
     "text": [
      "IOPub data rate exceeded.\n",
      "The notebook server will temporarily stop sending output\n",
      "to the client in order to avoid crashing it.\n",
      "To change this limit, set the config variable\n",
      "`--NotebookApp.iopub_data_rate_limit`.\n",
      "\n",
      "Current values:\n",
      "NotebookApp.iopub_data_rate_limit=1000000.0 (bytes/sec)\n",
      "NotebookApp.rate_limit_window=3.0 (secs)\n",
      "\n"
     ]
    }
   ],
   "source": [
    "data = []\n",
    "i = 0\n",
    "with open('twitter.json') as fname:\n",
    "    for line in fname:\n",
    "        i=i+1\n",
    "        if i%2 == 1:\n",
    "            print(line)\n",
    "            data.append(json.loads(line))"
   ]
  },
  {
   "cell_type": "code",
   "execution_count": 54,
   "metadata": {},
   "outputs": [
    {
     "data": {
      "text/plain": [
       "500"
      ]
     },
     "execution_count": 54,
     "metadata": {},
     "output_type": "execute_result"
    }
   ],
   "source": [
    "len(data)"
   ]
  },
  {
   "cell_type": "code",
   "execution_count": 55,
   "metadata": {},
   "outputs": [],
   "source": [
    "def dfs_inner(d, ident=''):\n",
    "    if type(d) is dict:\n",
    "        for i in d.items():\n",
    "            key = i[0]\n",
    "            value = i[1]\n",
    "            print(ident, key)\n",
    "            dfs_inner(value, ' ---')"
   ]
  },
  {
   "cell_type": "code",
   "execution_count": 56,
   "metadata": {},
   "outputs": [
    {
     "data": {
      "text/plain": [
       "(27, 27)"
      ]
     },
     "execution_count": 56,
     "metadata": {},
     "output_type": "execute_result"
    }
   ],
   "source": [
    "len(data[0].keys()), len(data[0].values())"
   ]
  },
  {
   "cell_type": "code",
   "execution_count": 57,
   "metadata": {},
   "outputs": [],
   "source": [
    "row = data[0]"
   ]
  },
  {
   "cell_type": "code",
   "execution_count": 58,
   "metadata": {},
   "outputs": [
    {
     "name": "stdout",
     "output_type": "stream",
     "text": [
      " created_at\n",
      " id\n",
      " id_str\n",
      " text\n",
      " source\n",
      " truncated\n",
      " in_reply_to_status_id\n",
      " in_reply_to_status_id_str\n",
      " in_reply_to_user_id\n",
      " in_reply_to_user_id_str\n",
      " in_reply_to_screen_name\n",
      " user\n",
      " --- id\n",
      " --- id_str\n",
      " --- name\n",
      " --- screen_name\n",
      " --- location\n",
      " --- url\n",
      " --- description\n",
      " --- protected\n",
      " --- verified\n",
      " --- followers_count\n",
      " --- friends_count\n",
      " --- listed_count\n",
      " --- favourites_count\n",
      " --- statuses_count\n",
      " --- created_at\n",
      " --- utc_offset\n",
      " --- time_zone\n",
      " --- geo_enabled\n",
      " --- lang\n",
      " --- contributors_enabled\n",
      " --- is_translator\n",
      " --- profile_background_color\n",
      " --- profile_background_image_url\n",
      " --- profile_background_image_url_https\n",
      " --- profile_background_tile\n",
      " --- profile_link_color\n",
      " --- profile_sidebar_border_color\n",
      " --- profile_sidebar_fill_color\n",
      " --- profile_text_color\n",
      " --- profile_use_background_image\n",
      " --- profile_image_url\n",
      " --- profile_image_url_https\n",
      " --- profile_banner_url\n",
      " --- default_profile\n",
      " --- default_profile_image\n",
      " --- following\n",
      " --- follow_request_sent\n",
      " --- notifications\n",
      " geo\n",
      " coordinates\n",
      " place\n",
      " contributors\n",
      " retweeted_status\n",
      " --- created_at\n",
      " --- id\n",
      " --- id_str\n",
      " --- text\n",
      " --- source\n",
      " --- truncated\n",
      " --- in_reply_to_status_id\n",
      " --- in_reply_to_status_id_str\n",
      " --- in_reply_to_user_id\n",
      " --- in_reply_to_user_id_str\n",
      " --- in_reply_to_screen_name\n",
      " --- user\n",
      " --- id\n",
      " --- id_str\n",
      " --- name\n",
      " --- screen_name\n",
      " --- location\n",
      " --- url\n",
      " --- description\n",
      " --- protected\n",
      " --- verified\n",
      " --- followers_count\n",
      " --- friends_count\n",
      " --- listed_count\n",
      " --- favourites_count\n",
      " --- statuses_count\n",
      " --- created_at\n",
      " --- utc_offset\n",
      " --- time_zone\n",
      " --- geo_enabled\n",
      " --- lang\n",
      " --- contributors_enabled\n",
      " --- is_translator\n",
      " --- profile_background_color\n",
      " --- profile_background_image_url\n",
      " --- profile_background_image_url_https\n",
      " --- profile_background_tile\n",
      " --- profile_link_color\n",
      " --- profile_sidebar_border_color\n",
      " --- profile_sidebar_fill_color\n",
      " --- profile_text_color\n",
      " --- profile_use_background_image\n",
      " --- profile_image_url\n",
      " --- profile_image_url_https\n",
      " --- profile_banner_url\n",
      " --- default_profile\n",
      " --- default_profile_image\n",
      " --- following\n",
      " --- follow_request_sent\n",
      " --- notifications\n",
      " --- geo\n",
      " --- coordinates\n",
      " --- place\n",
      " --- contributors\n",
      " --- retweet_count\n",
      " --- favorite_count\n",
      " --- entities\n",
      " --- hashtags\n",
      " --- trends\n",
      " --- urls\n",
      " --- user_mentions\n",
      " --- symbols\n",
      " --- media\n",
      " --- extended_entities\n",
      " --- media\n",
      " --- favorited\n",
      " --- retweeted\n",
      " --- possibly_sensitive\n",
      " --- filter_level\n",
      " --- lang\n",
      " retweet_count\n",
      " favorite_count\n",
      " entities\n",
      " --- hashtags\n",
      " --- trends\n",
      " --- urls\n",
      " --- user_mentions\n",
      " --- symbols\n",
      " --- media\n",
      " extended_entities\n",
      " --- media\n",
      " favorited\n",
      " retweeted\n",
      " possibly_sensitive\n",
      " filter_level\n",
      " lang\n",
      " timestamp_ms\n"
     ]
    }
   ],
   "source": [
    "dfs_inner(row)"
   ]
  },
  {
   "cell_type": "code",
   "execution_count": null,
   "metadata": {},
   "outputs": [],
   "source": []
  }
 ],
 "metadata": {
  "kernelspec": {
   "display_name": "Python 3",
   "language": "python",
   "name": "python3"
  },
  "language_info": {
   "codemirror_mode": {
    "name": "ipython",
    "version": 3
   },
   "file_extension": ".py",
   "mimetype": "text/x-python",
   "name": "python",
   "nbconvert_exporter": "python",
   "pygments_lexer": "ipython3",
   "version": "3.6.5"
  }
 },
 "nbformat": 4,
 "nbformat_minor": 2
}
